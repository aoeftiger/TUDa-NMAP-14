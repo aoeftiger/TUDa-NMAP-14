{
 "cells": [
  {
   "cell_type": "markdown",
   "id": "38250724",
   "metadata": {
    "slideshow": {
     "slide_type": "slide"
    }
   },
   "source": [
    "<h1 style=\"text-align: center; vertical-align: middle;\">Numerical Methods of Accelerator Physics</h1>\n",
    "<h2 style=\"text-align: center; vertical-align: middle;\">Lecture Series by Dr. Adrian Oeftiger</h2>\n",
    "\n",
    "<h3 style=\"text-align: center; vertical-align: middle; margin-top: 1em; margin-bottom: 1em;\">Guest Lecture by Dr. Andrea Santamaria Garcia</h3>\n",
    "\n",
    "<div style=\"width: 45%; margin: auto; vertical-align: middle; \">\n",
    "<img src=\"./img/etit.png\" style=\"width: 40%; float: left; vertical-align: center\" /><img src=\"./img/KIT_logo.svg\" style=\"width: 38%; float: right; vertical-align: center;\" />\n",
    "</div>\n",
    "<div style=\"clear: both; vertical-align: middle;\"></div>\n",
    "\n",
    "<h3 style=\"text-align: center; vertical-align: middle; \">Part 14: 10.02.2023</h3>"
   ]
  },
  {
   "cell_type": "markdown",
   "id": "06a8d74b",
   "metadata": {
    "slideshow": {
     "slide_type": "slide"
    }
   },
   "source": [
    "<h2>Run this notebook online!</h2>\n",
    "\n",
    "Interact and run this jupyter notebook online:\n",
    "\n",
    "<div class=\"alert alert-block alert-info\" style=\"text-align:center;\">\n",
    "1. via the public mybinder.org service: <br />\n",
    "\n",
    "<p style=\"text-align: center; margin-left, margin-right: auto; width: 100%;\">\n",
    "<a href=\"https://mybinder.org/v2/gh/aoeftiger/TUDa-NMAP-14/v1.0\"><img src=\"./img/binder_logo.svg\" /></a>\n",
    "</p>\n",
    "</div>\n",
    "\n",
    "<div class=\"alert alert-block alert-success\" style=\"text-align:center;\">\n",
    "2. on the <a href=\"https://tu-jupyter-i.ca.hrz.tu-darmstadt.de/\">local TU Darmstadt jupyterhub $\\nearrow$</a> (using your TU ID)\n",
    "\n",
    "$\\implies$ make sure you installed all the required python packages (see the [README](./README.md))!\n",
    "</div>\n",
    "\n",
    "Finally, also find this lecture rendered [as HTML slides on github $\\nearrow$](https://aoeftiger.github.io/TUDa-NMAP-14/) along with the [source repository $\\nearrow$](https://github.com/aoeftiger/TUDa-NMAP-14)."
   ]
  },
  {
   "cell_type": "markdown",
   "id": "a57cc074",
   "metadata": {
    "slideshow": {
     "slide_type": "slide"
    }
   },
   "source": [
    "<h2>Run this first!</h2>\n",
    "\n",
    "Imports and modules:"
   ]
  },
  {
   "cell_type": "code",
   "execution_count": null,
   "id": "e538eebc",
   "metadata": {
    "slideshow": {
     "slide_type": "-"
    }
   },
   "outputs": [],
   "source": [
    "from config import (np, plt)\n",
    "from scipy.constants import m_p, e, c\n",
    "%matplotlib inline"
   ]
  },
  {
   "cell_type": "code",
   "execution_count": null,
   "id": "d4af1f1a",
   "metadata": {},
   "outputs": [],
   "source": []
  },
  {
   "cell_type": "markdown",
   "id": "d5d19c39",
   "metadata": {
    "slideshow": {
     "slide_type": "slide"
    }
   },
   "source": [
    "<h2 style=\"color: #b51f2a\">Refresher!</h2>\n",
    "\n",
    "- ..."
   ]
  },
  {
   "cell_type": "markdown",
   "id": "ca9cec0a",
   "metadata": {
    "slideshow": {
     "slide_type": "slide"
    }
   },
   "source": [
    "<h2 style=\"color: #b51f2a\">Today!</h2>\n",
    "\n",
    "1. Bayesian Optimisation\n",
    "2. XYZ"
   ]
  },
  {
   "cell_type": "markdown",
   "id": "54c56d4e",
   "metadata": {
    "slideshow": {
     "slide_type": "slide"
    }
   },
   "source": [
    "<div style=\"text-align: center; width:100%;\">\n",
    "    <h2>Part I: Bayesian Optimisation</h2>\n",
    "</div>"
   ]
  },
  {
   "cell_type": "markdown",
   "id": "e5e71371",
   "metadata": {
    "slideshow": {
     "slide_type": "slide"
    }
   },
   "source": [
    "<h2>Hit Me!</h2>\n",
    "\n",
    "(...)\n",
    "\n",
    "<p style=\"color: #e6541a;\">$\\implies$ play with the value XY and try out ABC! (Exercise for the students to change some cells)</p>"
   ]
  },
  {
   "cell_type": "code",
   "execution_count": null,
   "id": "e7f35d68",
   "metadata": {},
   "outputs": [],
   "source": []
  },
  {
   "cell_type": "code",
   "execution_count": null,
   "id": "a8c2b9c0",
   "metadata": {},
   "outputs": [],
   "source": []
  },
  {
   "cell_type": "markdown",
   "id": "6f36fd02",
   "metadata": {
    "slideshow": {
     "slide_type": "slide"
    }
   },
   "source": [
    "<h2>An Image</h2>\n",
    "\n",
    "<img src=\"img/some-image.png\" alt=\"what's inside the image\" style=\"width: 80%; margin: auto;\" />\n",
    "\n",
    "<p style=\"clear: both; font-size: 10pt; text-align: right; float: right;\">image by <a href=\"https://google.me/\">XYZ</a></p>"
   ]
  },
  {
   "cell_type": "markdown",
   "id": "06742bcc",
   "metadata": {
    "slideshow": {
     "slide_type": "slide"
    }
   },
   "source": [
    "<h2>Something</h2>\n",
    "\n",
    "(...)"
   ]
  },
  {
   "cell_type": "markdown",
   "id": "ac30a1f6",
   "metadata": {
    "slideshow": {
     "slide_type": "slide"
    }
   },
   "source": [
    "<h2>Summary</h2>\n",
    "\n",
    "- ... all contents as relevant for the exam"
   ]
  },
  {
   "cell_type": "markdown",
   "id": "7162af3e",
   "metadata": {
    "slideshow": {
     "slide_type": "slide"
    }
   },
   "source": [
    "<h2>Literature</h2>"
   ]
  },
  {
   "cell_type": "code",
   "execution_count": 319,
   "id": "6d38c89c",
   "metadata": {},
   "outputs": [],
   "source": [
    "from gpytorch.models import ExactGP\n",
    "from gpytorch.likelihoods import GaussianLikelihood\n",
    "from gpytorch.kernels import RBFKernel, MaternKernel, ScaleKernel\n",
    "from botorch.models import SingleTaskGP\n",
    "import numpy as np\n",
    "import botorch\n",
    "import gpytorch\n",
    "import torch\n",
    "from matplotlib import pyplot as plt\n",
    "from typing import Union, Optional\n",
    "import warnings\n",
    "warnings.filterwarnings('ignore')"
   ]
  },
  {
   "attachments": {},
   "cell_type": "markdown",
   "id": "db9f9e2b",
   "metadata": {},
   "source": [
    "## Refresher: Gaussian Process\n",
    "\n",
    "First, let's define a test function\n",
    "\n",
    "$$ y = \\sin (2 \\pi x) + \\epsilon$$"
   ]
  },
  {
   "cell_type": "code",
   "execution_count": 350,
   "id": "c1bb1f32",
   "metadata": {},
   "outputs": [],
   "source": [
    "# Set Random seed for reproducibility\n",
    "random_seed = 1\n",
    "rng = torch.random.manual_seed(random_seed)\n",
    "\n",
    "# Setup our test function\n",
    "train_x = torch.linspace(0,1,15).reshape(-1,1)\n",
    "train_y = (torch.sin(train_x * 2 * np.pi) + torch.randn(size=train_x.size(), generator=rng) * 0.2).reshape(-1,1)\n",
    "fine_x = torch.linspace(0,1,200).reshape(-1,1)\n",
    "fine_y = torch.sin(fine_x * 2 * np.pi)\n",
    "test_X = torch.linspace(0,1,200)"
   ]
  },
  {
   "cell_type": "code",
   "execution_count": 351,
   "id": "e12804c8",
   "metadata": {},
   "outputs": [
    {
     "data": {
      "text/plain": [
       "<matplotlib.legend.Legend at 0x7f87e8525550>"
      ]
     },
     "execution_count": 351,
     "metadata": {},
     "output_type": "execute_result"
    },
    {
     "data": {
      "image/png": "[encoded data removed]",
      "text/plain": [
       "<Figure size 432x288 with 1 Axes>"
      ]
     },
     "metadata": {
      "needs_background": "light"
     },
     "output_type": "display_data"
    }
   ],
   "source": [
    "plt.plot(train_x, train_y, \"*\", label=\"Observed data\")\n",
    "plt.plot(fine_x, fine_y, label=r\"$f(x)=\\sin(2\\pi x)$\")\n",
    "\n",
    "plt.xlabel(\"X\")\n",
    "plt.ylabel(\"Y\")\n",
    "plt.legend()"
   ]
  },
  {
   "cell_type": "code",
   "execution_count": 352,
   "id": "43445b14",
   "metadata": {},
   "outputs": [],
   "source": []
  },
  {
   "attachments": {},
   "cell_type": "markdown",
   "id": "210243d4",
   "metadata": {},
   "source": [
    "### TODO: Clean-up the plotting utils and imports to seperate function"
   ]
  },
  {
   "cell_type": "code",
   "execution_count": 353,
   "id": "db1149fd",
   "metadata": {},
   "outputs": [],
   "source": [
    "def sample_gp_prior_plot(model: Union[ExactGP,SingleTaskGP], n_samples: int=5, ax=None, y_lim: Optional[tuple]=None):\n",
    "    with gpytorch.settings.prior_mode(True):\n",
    "        model.eval()\n",
    "        preds = model(test_X)\n",
    "\n",
    "    # Plotting\n",
    "    if ax is None:\n",
    "        fig = plt.figure()\n",
    "        ax = fig.add_subplot()\n",
    "    prior_mean = preds.mean.detach().numpy()\n",
    "    prior_std = preds.stddev.detach().numpy()\n",
    "    ax.plot(test_X, prior_mean)\n",
    "    ax.fill_between(test_X, prior_mean-2*prior_std, prior_mean+2*prior_std, alpha=0.2)\n",
    "    for i in range(n_samples):\n",
    "        y_sample = preds.sample();\n",
    "        ax.plot(test_X, y_sample,ls=\":\")\n",
    "    ax.set_xlabel(\"X\")\n",
    "    ax.set_ylabel(\"Y\")\n",
    "    ax.set_title(\"Samples drawn from the prior GP model\")\n",
    "    if y_lim is not None:\n",
    "        ax.set_ylim(y_lim)\n",
    "    return ax"
   ]
  },
  {
   "cell_type": "code",
   "execution_count": 361,
   "id": "0f94bc62",
   "metadata": {},
   "outputs": [],
   "source": [
    "def sample_gp_posterior_plot(model: Union[ExactGP,SingleTaskGP], n_samples: int=5, ax=None, y_lim: Optional[tuple]=None):\n",
    "    with gpytorch.settings.prior_mode(False):\n",
    "        model.eval()\n",
    "        preds = model(test_X)\n",
    "\n",
    "    # Plotting\n",
    "    if ax is None:\n",
    "        fig = plt.figure()\n",
    "        ax = fig.add_subplot()\n",
    "    prior_mean = preds.mean.detach().numpy()\n",
    "    prior_std = preds.stddev.detach().numpy()\n",
    "    ax.plot(test_X, prior_mean,label=\"GP mean\")\n",
    "    ax.fill_between(test_X, prior_mean-2*prior_std, prior_mean+2*prior_std, alpha=0.2, label=r\"2$\\sigma$ confidence bound\")\n",
    "    for i in range(n_samples):\n",
    "        y_sample = preds.sample();\n",
    "        ax.plot(test_X, y_sample,ls=\":\")\n",
    "    # Add observed data\n",
    "    ax.plot(model.train_inputs[0].flatten(), model.train_targets, color='black', ls=\"\", marker=\"*\",label='Data points')\n",
    "    ax.set_xlabel(\"X\")\n",
    "    ax.set_ylabel(\"Y\")\n",
    "    ax.set_title(\"GP Posterior\")\n",
    "    if y_lim is not None:\n",
    "        ax.set_ylim(y_lim)\n",
    "    ax.legend()\n",
    "    return ax"
   ]
  },
  {
   "cell_type": "code",
   "execution_count": 362,
   "id": "b25ee503",
   "metadata": {},
   "outputs": [],
   "source": [
    "kernel = ScaleKernel(RBFKernel())\n",
    "model = SingleTaskGP(train_X=train_x, train_Y=train_y, covar_module=kernel)\n",
    "model.covar_module.base_kernel.lengthscale = 0.2\n",
    "model.covar_module.outputscale = 1\n",
    "model.likelihood.noise_covar.noise = 0.1"
   ]
  },
  {
   "cell_type": "code",
   "execution_count": 363,
   "id": "426079f5",
   "metadata": {},
   "outputs": [
    {
     "data": {
      "image/png": "[encoded data removed]",
      "text/plain": [
       "<Figure size 432x288 with 1 Axes>"
      ]
     },
     "metadata": {
      "needs_background": "light"
     },
     "output_type": "display_data"
    }
   ],
   "source": [
    "ax = sample_gp_prior_plot(model)\n",
    "ax.set_ylim(-2.5,2.5);"
   ]
  },
  {
   "cell_type": "code",
   "execution_count": 364,
   "id": "910e9471",
   "metadata": {},
   "outputs": [
    {
     "data": {
      "text/plain": [
       "<AxesSubplot:title={'center':'GP Posterior'}, xlabel='X', ylabel='Y'>"
      ]
     },
     "execution_count": 364,
     "metadata": {},
     "output_type": "execute_result"
    },
    {
     "data": {
      "image/png": "[encoded data removed]",
      "text/plain": [
       "<Figure size 432x288 with 1 Axes>"
      ]
     },
     "metadata": {
      "needs_background": "light"
     },
     "output_type": "display_data"
    }
   ],
   "source": [
    "kernel = ScaleKernel(RBFKernel())\n",
    "model = SingleTaskGP(train_X=train_x, train_Y=train_y, covar_module=kernel)\n",
    "#################################################################################\n",
    "### Modify the values below so that GP model properly fits the unknown function\n",
    "model.covar_module.base_kernel.lengthscale = 0.5\n",
    "model.covar_module.outputscale = 1\n",
    "model.likelihood.noise_covar.noise = 1\n",
    "#################################################################################\n",
    "\n",
    "# Show the GP posterior with observed data points\n",
    "sample_gp_posterior_plot(model, y_lim=(-2,2), n_samples=0)\n",
    "\n",
    "# You can now increase the n_samples to show some functions sampled from the GP posterior"
   ]
  },
  {
   "cell_type": "code",
   "execution_count": null,
   "id": "e3ed9b10",
   "metadata": {},
   "outputs": [],
   "source": []
  },
  {
   "attachments": {},
   "cell_type": "markdown",
   "id": "4c2e95fe",
   "metadata": {},
   "source": [
    "<div style=\"text-align: center; width:100%;\">\n",
    "    <h2>Part II: BO for Beam Positioning and Focusing at Linac</h2>\n",
    "</div>"
   ]
  },
  {
   "cell_type": "code",
   "execution_count": 2,
   "id": "dfe0fcd1",
   "metadata": {},
   "outputs": [],
   "source": [
    "from ares_ea.env import ARESEA\n",
    "from gym.wrappers import RescaleAction"
   ]
  },
  {
   "cell_type": "code",
   "execution_count": null,
   "id": "1b5eaf16",
   "metadata": {},
   "outputs": [],
   "source": []
  },
  {
   "cell_type": "code",
   "execution_count": 3,
   "id": "a943a0e7",
   "metadata": {
    "slideshow": {
     "slide_type": "-"
    }
   },
   "outputs": [],
   "source": [
    "# Create a Gym Env\n",
    "\n",
    "env = ARESEA()\n",
    "\n",
    "# Wrap the environment with some utilities:\n",
    "\n",
    "env = RescaleAction(env, -1, 1)  # Normalize the action space to [-1,1]^n\n",
    "\n",
    "### Exercise: Apply some manual actions to move the beam\n",
    "\n",
    "action = np.array([])  # put your action here\n",
    "observation, reward, done, info = env.step(action)  # Perform one step: update the env, observe new beam!\n"
   ]
  },
  {
   "cell_type": "code",
   "execution_count": null,
   "id": "556efc28",
   "metadata": {},
   "outputs": [],
   "source": []
  }
 ],
 "metadata": {
  "celltoolbar": "Slideshow",
  "kernelspec": {
   "display_name": "nmap14",
   "language": "python",
   "name": "python3"
  },
  "language_info": {
   "codemirror_mode": {
    "name": "ipython",
    "version": 3
   },
   "file_extension": ".py",
   "mimetype": "text/x-python",
   "name": "python",
   "nbconvert_exporter": "python",
   "pygments_lexer": "ipython3",
   "version": "3.10.9"
  },
  "rise": {
   "enable_chalkboard": true,
   "footer": "<p>Fachbereich Elektrotechnik und Informationstechnik (etit)   |   Institut für Teilchenbeschleunigung und Elektromagnetische Felder (TEMF)   |   Dr. Andrea Santamaria Garcia</p>",
   "header": "<img src='https://upload.wikimedia.org/wikipedia/de/thumb/2/24/TU_Darmstadt_Logo.svg/640px-TU_Darmstadt_Logo.svg.png' />",
   "scroll": true,
   "theme": "simple",
   "transition": "none"
  },
  "vscode": {
   "interpreter": {
    "hash": "aefbd9db9e80b76479690376e0f6858b117f02d7b00937331627c3692732c1c7"
   }
  }
 },
 "nbformat": 4,
 "nbformat_minor": 5
}

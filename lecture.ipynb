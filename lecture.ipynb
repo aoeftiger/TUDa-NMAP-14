{
 "cells": [
  {
   "cell_type": "markdown",
   "id": "38250724",
   "metadata": {
    "slideshow": {
     "slide_type": "slide"
    }
   },
   "source": [
    "<h1 style=\"text-align: center; vertical-align: middle;\">Numerical Methods of Accelerator Physics</h1>\n",
    "<h2 style=\"text-align: center; vertical-align: middle;\">Lecture Series by Dr. Adrian Oeftiger</h2>\n",
    "\n",
    "<h3 style=\"text-align: center; vertical-align: middle; margin-top: 1em; margin-bottom: 1em;\">Guest Lecture by Dr. Andrea Santamaria Garcia</h3>\n",
    "\n",
    "<div style=\"width: 45%; margin: auto; vertical-align: middle; \">\n",
    "<img src=\"./img/etit.png\" style=\"width: 40%; float: left; vertical-align: center\" /><img src=\"./img/KIT_logo.svg\" style=\"width: 38%; float: right; vertical-align: center;\" />\n",
    "</div>\n",
    "<div style=\"clear: both; vertical-align: middle;\"></div>\n",
    "\n",
    "<h3 style=\"text-align: center; vertical-align: middle; \">Part 14: 10.02.2023</h3>"
   ]
  },
  {
   "cell_type": "markdown",
   "id": "06a8d74b",
   "metadata": {
    "slideshow": {
     "slide_type": "slide"
    }
   },
   "source": [
    "<h2>Run this notebook online!</h2>\n",
    "\n",
    "Interact and run this jupyter notebook online:\n",
    "\n",
    "<div class=\"alert alert-block alert-info\" style=\"text-align:center;\">\n",
    "1. via the public mybinder.org service: <br />\n",
    "\n",
    "<p style=\"text-align: center; margin-left, margin-right: auto; width: 100%;\">\n",
    "<a href=\"https://mybinder.org/v2/gh/aoeftiger/TUDa-NMAP-14/v1.0\"><img src=\"./img/binder_logo.svg\" /></a>\n",
    "</p>\n",
    "</div>\n",
    "\n",
    "<div class=\"alert alert-block alert-success\" style=\"text-align:center;\">\n",
    "2. on the <a href=\"https://tu-jupyter-i.ca.hrz.tu-darmstadt.de/\">local TU Darmstadt jupyterhub $\\nearrow$</a> (using your TU ID)\n",
    "\n",
    "$\\implies$ make sure you installed all the required python packages (see the [README](./README.md))!\n",
    "</div>\n",
    "\n",
    "Finally, also find this lecture rendered [as HTML slides on github $\\nearrow$](https://aoeftiger.github.io/TUDa-NMAP-14/) along with the [source repository $\\nearrow$](https://github.com/aoeftiger/TUDa-NMAP-14)."
   ]
  },
  {
   "cell_type": "markdown",
   "id": "a57cc074",
   "metadata": {
    "slideshow": {
     "slide_type": "slide"
    }
   },
   "source": [
    "<h2>Run this first!</h2>\n",
    "\n",
    "Imports and modules:"
   ]
  },
  {
   "cell_type": "code",
   "execution_count": null,
   "id": "e538eebc",
   "metadata": {
    "slideshow": {
     "slide_type": "-"
    }
   },
   "outputs": [],
   "source": [
    "from config import (np, plt)\n",
    "from scipy.constants import m_p, e, c\n",
    "%matplotlib inline"
   ]
  },
  {
   "cell_type": "markdown",
   "id": "d5d19c39",
   "metadata": {
    "slideshow": {
     "slide_type": "slide"
    }
   },
   "source": [
    "<h2 style=\"color: #b51f2a\">Refresher!</h2>\n",
    "\n",
    "- ..."
   ]
  },
  {
   "cell_type": "markdown",
   "id": "ca9cec0a",
   "metadata": {
    "slideshow": {
     "slide_type": "slide"
    }
   },
   "source": [
    "<h2 style=\"color: #b51f2a\">Today!</h2>\n",
    "\n",
    "1. Bayesian Optimisation\n",
    "2. XYZ"
   ]
  },
  {
   "cell_type": "markdown",
   "id": "54c56d4e",
   "metadata": {
    "slideshow": {
     "slide_type": "slide"
    }
   },
   "source": [
    "<div style=\"text-align: center; width:100%;\">\n",
    "    <h2>Part I: Bayesian Optimisation</h2>\n",
    "</div>"
   ]
  },
  {
   "cell_type": "markdown",
   "id": "e5e71371",
   "metadata": {
    "slideshow": {
     "slide_type": "slide"
    }
   },
   "source": [
    "<h2>Hit Me!</h2>\n",
    "\n",
    "(...)\n",
    "\n",
    "<p style=\"color: #e6541a;\">$\\implies$ play with the value XY and try out ABC! (Exercise for the students to change some cells)</p>"
   ]
  },
  {
   "cell_type": "markdown",
   "id": "6f36fd02",
   "metadata": {
    "slideshow": {
     "slide_type": "slide"
    }
   },
   "source": [
    "<h2>An Image</h2>\n",
    "\n",
    "<img src=\"img/some-image.png\" alt=\"what's inside the image\" style=\"width: 80%; margin: auto;\" />\n",
    "\n",
    "<p style=\"clear: both; font-size: 10pt; text-align: right; float: right;\">image by <a href=\"https://google.me/\">XYZ</a></p>"
   ]
  },
  {
   "cell_type": "markdown",
   "id": "f72c6a52",
   "metadata": {
    "slideshow": {
     "slide_type": "slide"
    }
   },
   "source": [
    "<div style=\"text-align: center; width:100%;\">\n",
    "    <h2>Part II: XYZ</h2>\n",
    "</div>"
   ]
  },
  {
   "cell_type": "markdown",
   "id": "06742bcc",
   "metadata": {
    "slideshow": {
     "slide_type": "slide"
    }
   },
   "source": [
    "<h2>Hit Me</h2>\n",
    "\n",
    "(...)"
   ]
  },
  {
   "cell_type": "markdown",
   "id": "ac30a1f6",
   "metadata": {
    "slideshow": {
     "slide_type": "slide"
    }
   },
   "source": [
    "<h2>Summary</h2>\n",
    "\n",
    "- ... all contents as relevant for the exam"
   ]
  },
  {
   "cell_type": "markdown",
   "id": "7162af3e",
   "metadata": {
    "slideshow": {
     "slide_type": "slide"
    }
   },
   "source": [
    "<h2>Literature</h2>"
   ]
  }
 ],
 "metadata": {
  "celltoolbar": "Slideshow",
  "kernelspec": {
   "display_name": "Python 3 (ipykernel)",
   "language": "python",
   "name": "python3"
  },
  "language_info": {
   "codemirror_mode": {
    "name": "ipython",
    "version": 3
   },
   "file_extension": ".py",
   "mimetype": "text/x-python",
   "name": "python",
   "nbconvert_exporter": "python",
   "pygments_lexer": "ipython3",
   "version": "3.8.0"
  },
  "rise": {
   "enable_chalkboard": true,
   "footer": "<p>Fachbereich Elektrotechnik und Informationstechnik (etit)   |   Institut für Teilchenbeschleunigung und Elektromagnetische Felder (TEMF)   |   Dr. Andrea Santamaria Garcia</p>",
   "header": "<img src='https://upload.wikimedia.org/wikipedia/de/thumb/2/24/TU_Darmstadt_Logo.svg/640px-TU_Darmstadt_Logo.svg.png' />",
   "scroll": true,
   "theme": "simple",
   "transition": "none"
  }
 },
 "nbformat": 4,
 "nbformat_minor": 5
}
